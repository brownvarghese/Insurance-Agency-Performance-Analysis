{
 "cells": [
  {
   "cell_type": "code",
   "execution_count": 75,
   "metadata": {},
   "outputs": [],
   "source": [
    "%matplotlib inline\n",
    "import matplotlib\n",
    "import seaborn as sns\n",
    "import pandas as pd\n",
    "import missingno as msno\n",
    "import numpy as np\n",
    "sns.set(style=\"white\")\n",
    "matplotlib.rc('figure', figsize=[12, 5])"
   ]
  },
  {
   "cell_type": "code",
   "execution_count": 76,
   "metadata": {},
   "outputs": [
    {
     "data": {
      "text/html": [
       "<div>\n",
       "<style scoped>\n",
       "    .dataframe tbody tr th:only-of-type {\n",
       "        vertical-align: middle;\n",
       "    }\n",
       "\n",
       "    .dataframe tbody tr th {\n",
       "        vertical-align: top;\n",
       "    }\n",
       "\n",
       "    .dataframe thead th {\n",
       "        text-align: right;\n",
       "    }\n",
       "</style>\n",
       "<table border=\"1\" class=\"dataframe\">\n",
       "  <thead>\n",
       "    <tr style=\"text-align: right;\">\n",
       "      <th></th>\n",
       "      <th>blob</th>\n",
       "    </tr>\n",
       "  </thead>\n",
       "  <tbody>\n",
       "    <tr>\n",
       "      <th>0</th>\n",
       "      <td>1969AL01001991910000000159</td>\n",
       "    </tr>\n",
       "    <tr>\n",
       "      <th>1</th>\n",
       "      <td>1969AL01001991910100000657</td>\n",
       "    </tr>\n",
       "    <tr>\n",
       "      <th>2</th>\n",
       "      <td>1969AL01001991910200001137</td>\n",
       "    </tr>\n",
       "    <tr>\n",
       "      <th>3</th>\n",
       "      <td>1969AL01001991910300000956</td>\n",
       "    </tr>\n",
       "    <tr>\n",
       "      <th>4</th>\n",
       "      <td>1969AL01001991910400000721</td>\n",
       "    </tr>\n",
       "  </tbody>\n",
       "</table>\n",
       "</div>"
      ],
      "text/plain": [
       "                         blob\n",
       "0  1969AL01001991910000000159\n",
       "1  1969AL01001991910100000657\n",
       "2  1969AL01001991910200001137\n",
       "3  1969AL01001991910300000956\n",
       "4  1969AL01001991910400000721"
      ]
     },
     "execution_count": 76,
     "metadata": {},
     "output_type": "execute_result"
    }
   ],
   "source": [
    "data = pd.read_csv('us.1969_2017.19ages.adjusted.txt', header=None)\n",
    "data.columns = [\"blob\"]\n",
    "data.head()"
   ]
  },
  {
   "cell_type": "code",
   "execution_count": 77,
   "metadata": {},
   "outputs": [
    {
     "data": {
      "text/plain": [
       "blob    object\n",
       "dtype: object"
      ]
     },
     "execution_count": 77,
     "metadata": {},
     "output_type": "execute_result"
    }
   ],
   "source": [
    "data.dtypes"
   ]
  },
  {
   "cell_type": "code",
   "execution_count": 78,
   "metadata": {},
   "outputs": [
    {
     "data": {
      "text/plain": [
       "blob    object\n",
       "dtype: object"
      ]
     },
     "execution_count": 78,
     "metadata": {},
     "output_type": "execute_result"
    }
   ],
   "source": [
    "data['blob'] = data['blob'].astype('str') \n",
    "data.dtypes"
   ]
  },
  {
   "cell_type": "code",
   "execution_count": 79,
   "metadata": {},
   "outputs": [
    {
     "data": {
      "text/plain": [
       "Index(['Year', 'State', 'Race', 'Origin', 'Sex', 'Age', 'Population'], dtype='object')"
      ]
     },
     "execution_count": 79,
     "metadata": {},
     "output_type": "execute_result"
    }
   ],
   "source": [
    "data_tf = pd.DataFrame(columns=['Year','State','Race','Origin','Sex','Age','Population'])\n",
    "data_tf.columns"
   ]
  },
  {
   "cell_type": "code",
   "execution_count": 80,
   "metadata": {},
   "outputs": [
    {
     "data": {
      "text/html": [
       "<div>\n",
       "<style scoped>\n",
       "    .dataframe tbody tr th:only-of-type {\n",
       "        vertical-align: middle;\n",
       "    }\n",
       "\n",
       "    .dataframe tbody tr th {\n",
       "        vertical-align: top;\n",
       "    }\n",
       "\n",
       "    .dataframe thead th {\n",
       "        text-align: right;\n",
       "    }\n",
       "</style>\n",
       "<table border=\"1\" class=\"dataframe\">\n",
       "  <thead>\n",
       "    <tr style=\"text-align: right;\">\n",
       "      <th></th>\n",
       "      <th>Year</th>\n",
       "      <th>State</th>\n",
       "      <th>Race</th>\n",
       "      <th>Origin</th>\n",
       "      <th>Sex</th>\n",
       "      <th>Age</th>\n",
       "      <th>Population</th>\n",
       "    </tr>\n",
       "  </thead>\n",
       "  <tbody>\n",
       "    <tr>\n",
       "      <th>0</th>\n",
       "      <td>1969</td>\n",
       "      <td>AL</td>\n",
       "      <td>1</td>\n",
       "      <td>9</td>\n",
       "      <td>1</td>\n",
       "      <td>00</td>\n",
       "      <td>00000159</td>\n",
       "    </tr>\n",
       "    <tr>\n",
       "      <th>1</th>\n",
       "      <td>1969</td>\n",
       "      <td>AL</td>\n",
       "      <td>1</td>\n",
       "      <td>9</td>\n",
       "      <td>1</td>\n",
       "      <td>01</td>\n",
       "      <td>00000657</td>\n",
       "    </tr>\n",
       "    <tr>\n",
       "      <th>2</th>\n",
       "      <td>1969</td>\n",
       "      <td>AL</td>\n",
       "      <td>1</td>\n",
       "      <td>9</td>\n",
       "      <td>1</td>\n",
       "      <td>02</td>\n",
       "      <td>00001137</td>\n",
       "    </tr>\n",
       "    <tr>\n",
       "      <th>3</th>\n",
       "      <td>1969</td>\n",
       "      <td>AL</td>\n",
       "      <td>1</td>\n",
       "      <td>9</td>\n",
       "      <td>1</td>\n",
       "      <td>03</td>\n",
       "      <td>00000956</td>\n",
       "    </tr>\n",
       "    <tr>\n",
       "      <th>4</th>\n",
       "      <td>1969</td>\n",
       "      <td>AL</td>\n",
       "      <td>1</td>\n",
       "      <td>9</td>\n",
       "      <td>1</td>\n",
       "      <td>04</td>\n",
       "      <td>00000721</td>\n",
       "    </tr>\n",
       "  </tbody>\n",
       "</table>\n",
       "</div>"
      ],
      "text/plain": [
       "   Year State Race Origin Sex Age Population\n",
       "0  1969    AL    1      9   1  00   00000159\n",
       "1  1969    AL    1      9   1  01   00000657\n",
       "2  1969    AL    1      9   1  02   00001137\n",
       "3  1969    AL    1      9   1  03   00000956\n",
       "4  1969    AL    1      9   1  04   00000721"
      ]
     },
     "execution_count": 80,
     "metadata": {},
     "output_type": "execute_result"
    }
   ],
   "source": [
    "data_tf['Year'] = data.blob.str.slice(0,4)\n",
    "data_tf['State'] = data.blob.str.slice(4,6)\n",
    "data_tf['Race'] = data.blob.str.slice(13,14)\n",
    "data_tf['Origin'] = data.blob.str.slice(14,15)\n",
    "data_tf['Sex'] = data.blob.str.slice(15,16)\n",
    "data_tf['Age'] = data.blob.str.slice(16,18)\n",
    "data_tf['Population'] = data.blob.str.slice(18,26)\n",
    "data_tf.head()"
   ]
  },
  {
   "cell_type": "code",
   "execution_count": 81,
   "metadata": {},
   "outputs": [
    {
     "data": {
      "text/plain": [
       "Year          object\n",
       "State         object\n",
       "Race          object\n",
       "Origin        object\n",
       "Sex           object\n",
       "Age           object\n",
       "Population    object\n",
       "dtype: object"
      ]
     },
     "execution_count": 81,
     "metadata": {},
     "output_type": "execute_result"
    }
   ],
   "source": [
    "data_tf.dtypes"
   ]
  },
  {
   "cell_type": "code",
   "execution_count": 82,
   "metadata": {},
   "outputs": [
    {
     "data": {
      "text/plain": [
       "Year           int64\n",
       "State         object\n",
       "Race           int64\n",
       "Origin         int64\n",
       "Sex            int64\n",
       "Age            int64\n",
       "Population     int64\n",
       "dtype: object"
      ]
     },
     "execution_count": 82,
     "metadata": {},
     "output_type": "execute_result"
    }
   ],
   "source": [
    "data_tf['Year'] = data_tf['Year'].astype('int')\n",
    "data_tf['State'] = data_tf['State'].astype('str')\n",
    "data_tf['Race'] = data_tf['Race'].astype('int')\n",
    "data_tf['Origin'] = data_tf['Origin'].astype('int')\n",
    "data_tf['Sex'] = data_tf['Sex'].astype('int')\n",
    "data_tf['Age'] = data_tf['Age'].astype('int')\n",
    "data_tf['Population'] = data_tf['Population'].astype('int')\n",
    "data_tf.dtypes"
   ]
  },
  {
   "cell_type": "code",
   "execution_count": 83,
   "metadata": {},
   "outputs": [
    {
     "data": {
      "text/html": [
       "<div>\n",
       "<style scoped>\n",
       "    .dataframe tbody tr th:only-of-type {\n",
       "        vertical-align: middle;\n",
       "    }\n",
       "\n",
       "    .dataframe tbody tr th {\n",
       "        vertical-align: top;\n",
       "    }\n",
       "\n",
       "    .dataframe thead th {\n",
       "        text-align: right;\n",
       "    }\n",
       "</style>\n",
       "<table border=\"1\" class=\"dataframe\">\n",
       "  <thead>\n",
       "    <tr style=\"text-align: right;\">\n",
       "      <th></th>\n",
       "      <th>Year</th>\n",
       "      <th>State</th>\n",
       "      <th>Race</th>\n",
       "      <th>Origin</th>\n",
       "      <th>Sex</th>\n",
       "      <th>Age</th>\n",
       "      <th>Population</th>\n",
       "    </tr>\n",
       "  </thead>\n",
       "  <tbody>\n",
       "    <tr>\n",
       "      <th>0</th>\n",
       "      <td>1969</td>\n",
       "      <td>AL</td>\n",
       "      <td>1</td>\n",
       "      <td>9</td>\n",
       "      <td>1</td>\n",
       "      <td>0</td>\n",
       "      <td>159</td>\n",
       "    </tr>\n",
       "    <tr>\n",
       "      <th>1</th>\n",
       "      <td>1969</td>\n",
       "      <td>AL</td>\n",
       "      <td>1</td>\n",
       "      <td>9</td>\n",
       "      <td>1</td>\n",
       "      <td>1</td>\n",
       "      <td>657</td>\n",
       "    </tr>\n",
       "    <tr>\n",
       "      <th>2</th>\n",
       "      <td>1969</td>\n",
       "      <td>AL</td>\n",
       "      <td>1</td>\n",
       "      <td>9</td>\n",
       "      <td>1</td>\n",
       "      <td>2</td>\n",
       "      <td>1137</td>\n",
       "    </tr>\n",
       "    <tr>\n",
       "      <th>3</th>\n",
       "      <td>1969</td>\n",
       "      <td>AL</td>\n",
       "      <td>1</td>\n",
       "      <td>9</td>\n",
       "      <td>1</td>\n",
       "      <td>3</td>\n",
       "      <td>956</td>\n",
       "    </tr>\n",
       "    <tr>\n",
       "      <th>4</th>\n",
       "      <td>1969</td>\n",
       "      <td>AL</td>\n",
       "      <td>1</td>\n",
       "      <td>9</td>\n",
       "      <td>1</td>\n",
       "      <td>4</td>\n",
       "      <td>721</td>\n",
       "    </tr>\n",
       "  </tbody>\n",
       "</table>\n",
       "</div>"
      ],
      "text/plain": [
       "   Year State  Race  Origin  Sex  Age  Population\n",
       "0  1969    AL     1       9    1    0         159\n",
       "1  1969    AL     1       9    1    1         657\n",
       "2  1969    AL     1       9    1    2        1137\n",
       "3  1969    AL     1       9    1    3         956\n",
       "4  1969    AL     1       9    1    4         721"
      ]
     },
     "execution_count": 83,
     "metadata": {},
     "output_type": "execute_result"
    }
   ],
   "source": [
    "data_tf.head()"
   ]
  },
  {
   "cell_type": "code",
   "execution_count": 88,
   "metadata": {},
   "outputs": [
    {
     "data": {
      "text/html": [
       "<div>\n",
       "<style scoped>\n",
       "    .dataframe tbody tr th:only-of-type {\n",
       "        vertical-align: middle;\n",
       "    }\n",
       "\n",
       "    .dataframe tbody tr th {\n",
       "        vertical-align: top;\n",
       "    }\n",
       "\n",
       "    .dataframe thead th {\n",
       "        text-align: right;\n",
       "    }\n",
       "</style>\n",
       "<table border=\"1\" class=\"dataframe\">\n",
       "  <thead>\n",
       "    <tr style=\"text-align: right;\">\n",
       "      <th></th>\n",
       "      <th>Year</th>\n",
       "      <th>State</th>\n",
       "      <th>Race</th>\n",
       "      <th>Origin</th>\n",
       "      <th>Sex</th>\n",
       "      <th>Age</th>\n",
       "      <th>Population</th>\n",
       "    </tr>\n",
       "  </thead>\n",
       "  <tbody>\n",
       "    <tr>\n",
       "      <th>10271262</th>\n",
       "      <td>2005</td>\n",
       "      <td>AL</td>\n",
       "      <td>1</td>\n",
       "      <td>9</td>\n",
       "      <td>1</td>\n",
       "      <td>0</td>\n",
       "      <td>262</td>\n",
       "    </tr>\n",
       "    <tr>\n",
       "      <th>10271263</th>\n",
       "      <td>2005</td>\n",
       "      <td>AL</td>\n",
       "      <td>1</td>\n",
       "      <td>9</td>\n",
       "      <td>1</td>\n",
       "      <td>1</td>\n",
       "      <td>1082</td>\n",
       "    </tr>\n",
       "    <tr>\n",
       "      <th>10271264</th>\n",
       "      <td>2005</td>\n",
       "      <td>AL</td>\n",
       "      <td>1</td>\n",
       "      <td>9</td>\n",
       "      <td>1</td>\n",
       "      <td>2</td>\n",
       "      <td>1459</td>\n",
       "    </tr>\n",
       "    <tr>\n",
       "      <th>10271265</th>\n",
       "      <td>2005</td>\n",
       "      <td>AL</td>\n",
       "      <td>1</td>\n",
       "      <td>9</td>\n",
       "      <td>1</td>\n",
       "      <td>3</td>\n",
       "      <td>1683</td>\n",
       "    </tr>\n",
       "    <tr>\n",
       "      <th>10271266</th>\n",
       "      <td>2005</td>\n",
       "      <td>AL</td>\n",
       "      <td>1</td>\n",
       "      <td>9</td>\n",
       "      <td>1</td>\n",
       "      <td>4</td>\n",
       "      <td>1621</td>\n",
       "    </tr>\n",
       "  </tbody>\n",
       "</table>\n",
       "</div>"
      ],
      "text/plain": [
       "          Year State  Race  Origin  Sex  Age  Population\n",
       "10271262  2005    AL     1       9    1    0         262\n",
       "10271263  2005    AL     1       9    1    1        1082\n",
       "10271264  2005    AL     1       9    1    2        1459\n",
       "10271265  2005    AL     1       9    1    3        1683\n",
       "10271266  2005    AL     1       9    1    4        1621"
      ]
     },
     "execution_count": 88,
     "metadata": {},
     "output_type": "execute_result"
    }
   ],
   "source": [
    "years = [2005, 2006, 2007, 2008, 2009, 2010, 2011, 2012, 2013, 2014, 2015]\n",
    "\n",
    "data_tf_2005_15 = data_tf[data_tf.Year.isin(years)]\n",
    "\n",
    "data_tf_2005_15.head()"
   ]
  },
  {
   "cell_type": "code",
   "execution_count": 99,
   "metadata": {},
   "outputs": [
    {
     "data": {
      "text/html": [
       "<div>\n",
       "<style scoped>\n",
       "    .dataframe tbody tr th:only-of-type {\n",
       "        vertical-align: middle;\n",
       "    }\n",
       "\n",
       "    .dataframe tbody tr th {\n",
       "        vertical-align: top;\n",
       "    }\n",
       "\n",
       "    .dataframe thead th {\n",
       "        text-align: right;\n",
       "    }\n",
       "</style>\n",
       "<table border=\"1\" class=\"dataframe\">\n",
       "  <thead>\n",
       "    <tr style=\"text-align: right;\">\n",
       "      <th></th>\n",
       "      <th>Year</th>\n",
       "      <th>State</th>\n",
       "      <th>Race</th>\n",
       "      <th>Origin</th>\n",
       "      <th>Sex</th>\n",
       "      <th>Age</th>\n",
       "      <th>Population</th>\n",
       "    </tr>\n",
       "  </thead>\n",
       "  <tbody>\n",
       "    <tr>\n",
       "      <th>10344282</th>\n",
       "      <td>2005</td>\n",
       "      <td>IN</td>\n",
       "      <td>1</td>\n",
       "      <td>9</td>\n",
       "      <td>1</td>\n",
       "      <td>0</td>\n",
       "      <td>320</td>\n",
       "    </tr>\n",
       "    <tr>\n",
       "      <th>10344283</th>\n",
       "      <td>2005</td>\n",
       "      <td>IN</td>\n",
       "      <td>1</td>\n",
       "      <td>9</td>\n",
       "      <td>1</td>\n",
       "      <td>1</td>\n",
       "      <td>1169</td>\n",
       "    </tr>\n",
       "    <tr>\n",
       "      <th>10344284</th>\n",
       "      <td>2005</td>\n",
       "      <td>IN</td>\n",
       "      <td>1</td>\n",
       "      <td>9</td>\n",
       "      <td>1</td>\n",
       "      <td>2</td>\n",
       "      <td>1329</td>\n",
       "    </tr>\n",
       "    <tr>\n",
       "      <th>10344285</th>\n",
       "      <td>2005</td>\n",
       "      <td>IN</td>\n",
       "      <td>1</td>\n",
       "      <td>9</td>\n",
       "      <td>1</td>\n",
       "      <td>3</td>\n",
       "      <td>1596</td>\n",
       "    </tr>\n",
       "    <tr>\n",
       "      <th>10344286</th>\n",
       "      <td>2005</td>\n",
       "      <td>IN</td>\n",
       "      <td>1</td>\n",
       "      <td>9</td>\n",
       "      <td>1</td>\n",
       "      <td>4</td>\n",
       "      <td>1397</td>\n",
       "    </tr>\n",
       "  </tbody>\n",
       "</table>\n",
       "</div>"
      ],
      "text/plain": [
       "          Year State  Race  Origin  Sex  Age  Population\n",
       "10344282  2005    IN     1       9    1    0         320\n",
       "10344283  2005    IN     1       9    1    1        1169\n",
       "10344284  2005    IN     1       9    1    2        1329\n",
       "10344285  2005    IN     1       9    1    3        1596\n",
       "10344286  2005    IN     1       9    1    4        1397"
      ]
     },
     "execution_count": 99,
     "metadata": {},
     "output_type": "execute_result"
    }
   ],
   "source": [
    "#state = ['IN', 'KY', 'MI', 'OH', 'PA', 'WV']\n",
    "#data_tf_2005_15_st = data_tf_2005_15[data_tf_2005_15.State.isin(state)]\n",
    "#data_tf_2005_15_st.head()"
   ]
  },
  {
   "cell_type": "code",
   "execution_count": 101,
   "metadata": {},
   "outputs": [
    {
     "data": {
      "text/plain": [
       "Year            State  Age\n",
       "2005            IN     0       85050\n",
       "                       1      344567\n",
       "                       2      432642\n",
       "                       3      454815\n",
       "                       4      463181\n",
       "                       5      453312\n",
       "                       6      402016\n",
       "                       7      409729\n",
       "                       8      424857\n",
       "                       9      475312\n",
       "                       10     477254\n",
       "                       11     430584\n",
       "                       12     370561\n",
       "                       13     278475\n",
       "                       14     217506\n",
       "                       15     180098\n",
       "                       16     159467\n",
       "                       17     119499\n",
       "                       18      99691\n",
       "                KY     0       55364\n",
       "                       1      217298\n",
       "                       2      271115\n",
       "                       3      286751\n",
       "                       4      288741\n",
       "                       5      298829\n",
       "                       6      273526\n",
       "                       7      280989\n",
       "                       8      289885\n",
       "                       9      319475\n",
       "                       10     320751\n",
       "                               ...  \n",
       "2015            PA     9      757085\n",
       "                       10     839482\n",
       "                       11     930386\n",
       "                       12     950625\n",
       "                       13     839873\n",
       "                       14     696151\n",
       "                       15     499281\n",
       "                       16     366729\n",
       "                       17     282462\n",
       "                       18     333264\n",
       "                WV     0       19934\n",
       "                       1       82031\n",
       "                       2      104219\n",
       "                       3      106160\n",
       "                       4      110235\n",
       "                       5      122065\n",
       "                       6      109825\n",
       "                       7      107110\n",
       "                       8      111411\n",
       "                       9      115152\n",
       "                       10     117961\n",
       "                       11     128442\n",
       "                       12     137038\n",
       "                       13     131267\n",
       "                       14     116063\n",
       "                       15      81138\n",
       "                       16      59254\n",
       "                       17      40403\n",
       "                       18      40059\n",
       "Tot Population                   NaN\n",
       "Name: Population, Length: 1255, dtype: object"
      ]
     },
     "execution_count": 101,
     "metadata": {},
     "output_type": "execute_result"
    }
   ],
   "source": [
    "data_sum = data_tf_2005_15_st.groupby(['Year', 'State', 'Age'])\n",
    "data_sum1[\"Tot Population\"] = data_sum['Population'].sum()\n",
    "\n",
    "data_sum1"
   ]
  },
  {
   "cell_type": "code",
   "execution_count": 91,
   "metadata": {},
   "outputs": [
    {
     "data": {
      "text/plain": [
       "Year  State\n",
       "2005  IN        6278616\n",
       "      KY        4182742\n",
       "      MI       10051137\n",
       "      OH       11463320\n",
       "      PA       12449990\n",
       "      WV        1820492\n",
       "2006  IN        6332669\n",
       "      KY        4219239\n",
       "      MI       10036081\n",
       "      OH       11481213\n",
       "      PA       12510809\n",
       "      WV        1827912\n",
       "2007  IN        6379599\n",
       "      KY        4256672\n",
       "      MI       10001284\n",
       "      OH       11500468\n",
       "      PA       12563937\n",
       "      WV        1834052\n",
       "2008  IN        6424806\n",
       "      KY        4289878\n",
       "      MI        9946889\n",
       "      OH       11515391\n",
       "      PA       12612285\n",
       "      WV        1840310\n",
       "2009  IN        6459325\n",
       "      KY        4317074\n",
       "      MI        9901591\n",
       "      OH       11528896\n",
       "      PA       12666858\n",
       "      WV        1847775\n",
       "                 ...   \n",
       "2011  IN        6515358\n",
       "      KY        4368505\n",
       "      MI        9876199\n",
       "      OH       11543332\n",
       "      PA       12742811\n",
       "      WV        1854891\n",
       "2012  IN        6535665\n",
       "      KY        4383673\n",
       "      MI        9886610\n",
       "      OH       11546969\n",
       "      PA       12768034\n",
       "      WV        1855360\n",
       "2013  IN        6567484\n",
       "      KY        4399121\n",
       "      MI        9899219\n",
       "      OH       11567845\n",
       "      PA       12778450\n",
       "      WV        1852333\n",
       "2014  IN        6593182\n",
       "      KY        4410415\n",
       "      MI        9914675\n",
       "      OH       11593741\n",
       "      PA       12790341\n",
       "      WV        1847624\n",
       "2015  IN        6610596\n",
       "      KY        4422057\n",
       "      MI        9918170\n",
       "      OH       11606027\n",
       "      PA       12791124\n",
       "      WV        1839767\n",
       "Name: Population, Length: 66, dtype: int64"
      ]
     },
     "execution_count": 91,
     "metadata": {},
     "output_type": "execute_result"
    }
   ],
   "source": [
    "data_sum2 = data_tf_2005_15_st.groupby(['Year', 'State'])['Population'].sum()\n",
    "data_sum2.columns=['Year', 'State', 'Tot Population']\n",
    "data_sum2"
   ]
  },
  {
   "cell_type": "code",
   "execution_count": null,
   "metadata": {},
   "outputs": [],
   "source": []
  }
 ],
 "metadata": {
  "kernelspec": {
   "display_name": "Python (PythonData)",
   "language": "python",
   "name": "pythondata"
  },
  "language_info": {
   "codemirror_mode": {
    "name": "ipython",
    "version": 3
   },
   "file_extension": ".py",
   "mimetype": "text/x-python",
   "name": "python",
   "nbconvert_exporter": "python",
   "pygments_lexer": "ipython3",
   "version": "3.7.2"
  }
 },
 "nbformat": 4,
 "nbformat_minor": 2
}
